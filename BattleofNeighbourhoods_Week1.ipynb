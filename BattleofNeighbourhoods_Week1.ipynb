{
 "cells": [
  {
   "cell_type": "markdown",
   "metadata": {
    "collapsed": true
   },
   "source": [
    "# The Battle of the Neighborhoods - Week 1"
   ]
  },
  {
   "cell_type": "markdown",
   "metadata": {},
   "source": [
    "## Introduction & Business Problem :"
   ]
  },
  {
   "cell_type": "markdown",
   "metadata": {},
   "source": [
    "### Problem Background:"
   ]
  },
  {
   "cell_type": "markdown",
   "metadata": {},
   "source": [
    "The City of New York, is the most populated city in the United States. New York City is very diverse and highly multicultural. It provides lots of business oppourtunities. It has attracted many different players into the market. It is a global hub of business and commerce. \n",
    "\n",
    "This also means that the market is highly competitive. Therefore, any new business venture or expansion needs to be analysed carefully. The insights derived from analysis will give good understanding of the business environment and give a new establish an opportunity to position itself strategically good in the market. \n"
   ]
  },
  {
   "cell_type": "markdown",
   "metadata": {},
   "source": [
    "### Problem Description:"
   ]
  },
  {
   "cell_type": "markdown",
   "metadata": {},
   "source": [
    "A restaurant is a business which prepares and serves food and drink to customers in return for money, either paid before the meal, after the meal, or with an open account. The City of New York is famous for its excelllent cuisine. It's food culture includes an array of international cuisines influenced by the city's immigrant history.\n",
    "\n",
    "My client, Company A is a successful restaurant chain in Mexico that is looking to expand business into USA through New York City. \n",
    "\n",
    "So it is evident that to survive in such competitive market it is very important to startegically plan. Various factors need to be studied inorder to decide on the Location such as :\n",
    "\n",
    "New York Population\n",
    "New York City Demographics\n",
    "Are there any venues like Gyms, Entertainmnet zones, Parks etc nearby where floating population is high etc\n",
    "Who are the competitors in that location?\n",
    "Segmentation of the Borough\n",
    "etc.\n",
    "\n",
    "Thus, Company A need to choose the correct location to start its first venture. First move is very important, thereby choice of location is very important."
   ]
  },
  {
   "cell_type": "markdown",
   "metadata": {},
   "source": [
    "### Target Audience:"
   ]
  },
  {
   "cell_type": "markdown",
   "metadata": {},
   "source": [
    "To recommend the correct location, Company A has appointed me to lead the necessary Data analysis. The objective is to recommend to the management which neighborhood of Newyork city will be best choice to start a restaurant. The Management also expects to understand the rationale of the recommendations made.\n",
    "\n",
    "This would interest anyone who wants to start a new Mexican restaurant in Newyork city."
   ]
  }
 ],
 "metadata": {
  "kernelspec": {
   "display_name": "Python 3.6",
   "language": "python",
   "name": "python3"
  },
  "language_info": {
   "codemirror_mode": {
    "name": "ipython",
    "version": 3
   },
   "file_extension": ".py",
   "mimetype": "text/x-python",
   "name": "python",
   "nbconvert_exporter": "python",
   "pygments_lexer": "ipython3",
   "version": "3.6.9"
  }
 },
 "nbformat": 4,
 "nbformat_minor": 1
}
